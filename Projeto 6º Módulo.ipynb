{
 "cells": [
  {
   "cell_type": "markdown",
   "id": "19dc77e5",
   "metadata": {},
   "source": [
    "## Importando as bibliotecas"
   ]
  },
  {
   "cell_type": "code",
   "execution_count": 1,
   "id": "d79f219b",
   "metadata": {},
   "outputs": [],
   "source": [
    "import pandas as pd\n",
    "import numpy as np\n",
    "import matplotlib.pyplot as plt\n",
    "import seaborn as sns"
   ]
  },
  {
   "cell_type": "code",
   "execution_count": 5,
   "id": "9be5a091",
   "metadata": {},
   "outputs": [
    {
     "name": "stdout",
     "output_type": "stream",
     "text": [
      "geopandas @ file:///tmp/build/80754af9/geopandas_1627401391374/work\n",
      "pandas @ file:///C:/ci/pandas_1644984307868/work\n",
      "pandas-profiling @ https://github.com/pandas-profiling/pandas-profiling/archive/master.zip\n",
      "ipython @ file:///C:/ci/ipython_1643818352265/work\n",
      "ipython-genutils @ file:///tmp/build/80754af9/ipython_genutils_1606773439826/work\n",
      "libarchive-c @ file:///tmp/build/80754af9/python-libarchive-c_1617780486945/work\n",
      "msgpack @ file:///C:/ci/msgpack-python_1612287350784/work\n",
      "python-dateutil @ file:///tmp/build/80754af9/python-dateutil_1626374649649/work\n",
      "python-lsp-black @ file:///tmp/build/80754af9/python-lsp-black_1634232156041/work\n",
      "python-lsp-jsonrpc==1.0.0\n",
      "python-lsp-server==1.2.4\n",
      "python-slugify @ file:///tmp/build/80754af9/python-slugify_1620405669636/work\n"
     ]
    }
   ],
   "source": [
    "!pip3 freeze | findstr pandas\n",
    "\n",
    "!pip3 freeze | findstr python"
   ]
  },
  {
   "cell_type": "code",
   "execution_count": 10,
   "id": "1006443e",
   "metadata": {},
   "outputs": [
    {
     "name": "stdout",
     "output_type": "stream",
     "text": [
      "Package                            Version\n",
      "---------------------------------- --------------------\n",
      "alabaster                          0.7.12\n",
      "anaconda-client                    1.9.0\n",
      "anaconda-navigator                 2.1.2\n",
      "anaconda-project                   0.10.2\n",
      "anyio                              3.5.0\n",
      "appdirs                            1.4.4\n",
      "argh                               0.26.2\n",
      "argon2-cffi                        21.3.0\n",
      "argon2-cffi-bindings               21.2.0\n",
      "arrow                              0.13.1\n",
      "asn1crypto                         1.4.0\n",
      "astroid                            2.6.6\n",
      "astropy                            5.0\n",
      "async-generator                    1.10\n",
      "atomicwrites                       1.4.0\n",
      "attrs                              21.4.0\n",
      "autopep8                           1.6.0\n",
      "Babel                              2.9.1\n",
      "backcall                           0.2.0\n",
      "backports.functools-lru-cache      1.6.4\n",
      "backports.shutil-get-terminal-size 1.0.0\n",
      "backports.tempfile                 1.0\n",
      "backports.weakref                  1.0.post1\n",
      "bcrypt                             3.2.0\n",
      "beautifulsoup4                     4.10.0\n",
      "binaryornot                        0.4.4\n",
      "bitarray                           2.3.5\n",
      "bkcharts                           0.2\n",
      "black                              19.10b0\n",
      "bleach                             4.1.0\n",
      "bokeh                              2.4.2\n",
      "boto                               2.49.0\n",
      "Bottleneck                         1.3.2\n",
      "branca                             0.4.2\n",
      "brotlipy                           0.7.0\n",
      "cached-property                    1.5.2\n",
      "certifi                            2021.10.8\n",
      "cffi                               1.15.0\n",
      "chardet                            4.0.0\n",
      "charset-normalizer                 2.0.4\n",
      "click                              7.1.2\n",
      "click-plugins                      1.1.1\n",
      "cligj                              0.7.2\n",
      "cloudpickle                        2.0.0\n",
      "clyent                             1.2.2\n",
      "colorama                           0.4.4\n",
      "comtypes                           1.1.10\n",
      "conda                              4.12.0\n",
      "conda-build                        3.21.6\n",
      "conda-content-trust                0+unknown\n",
      "conda-pack                         0.6.0\n",
      "conda-package-handling             1.7.3\n",
      "conda-repo-cli                     1.0.4\n",
      "conda-token                        0.3.0\n",
      "conda-verify                       3.4.2\n",
      "contextlib2                        0.6.0.post1\n",
      "cookiecutter                       1.7.2\n",
      "cryptography                       3.4.8\n",
      "cycler                             0.11.0\n",
      "Cython                             0.29.25\n",
      "cytoolz                            0.11.0\n",
      "daal4py                            2021.5.0\n",
      "dask                               2021.10.0\n",
      "debugpy                            1.5.1\n",
      "decorator                          5.1.1\n",
      "defusedxml                         0.7.1\n",
      "diff-match-patch                   20200713\n",
      "distributed                        2021.10.0\n",
      "distro                             1.7.0\n",
      "docopt                             0.6.2\n",
      "docutils                           0.17.1\n",
      "entrypoints                        0.3\n",
      "et-xmlfile                         1.1.0\n",
      "fastcache                          1.1.0\n",
      "filelock                           3.6.0\n",
      "Fiona                              1.8.13.post1\n",
      "flake8                             3.9.2\n",
      "Flask                              1.1.2\n",
      "folium                             0.12.1.post1\n",
      "fonttools                          4.25.0\n",
      "fsspec                             2022.1.0\n",
      "future                             0.18.2\n",
      "GDAL                               3.0.2\n",
      "geographiclib                      1.52\n",
      "geopandas                          0.9.0\n",
      "geopy                              2.2.0\n",
      "gevent                             21.8.0\n",
      "glob2                              0.7\n",
      "greenlet                           1.1.1\n",
      "h5py                               3.6.0\n",
      "HeapDict                           1.0.1\n",
      "html5lib                           1.1\n",
      "htmlmin                            0.1.12\n",
      "idna                               3.3\n",
      "imagecodecs                        2021.8.26\n",
      "ImageHash                          4.2.1\n",
      "imageio                            2.9.0\n",
      "imagesize                          1.3.0\n",
      "importlib-metadata                 4.8.2\n",
      "inflection                         0.5.1\n",
      "iniconfig                          1.1.1\n",
      "intervaltree                       3.1.0\n",
      "ipykernel                          6.4.1\n",
      "ipython                            7.31.1\n",
      "ipython-genutils                   0.2.0\n",
      "ipywidgets                         7.6.5\n",
      "isort                              5.9.3\n",
      "itsdangerous                       2.0.1\n",
      "jdcal                              1.4.1\n",
      "jedi                               0.18.1\n",
      "Jinja2                             2.11.3\n",
      "jinja2-time                        0.2.0\n",
      "joblib                             1.1.0\n",
      "json5                              0.9.6\n",
      "jsonschema                         3.2.0\n",
      "jupyter                            1.0.0\n",
      "jupyter-client                     6.1.12\n",
      "jupyter-console                    6.4.0\n",
      "jupyter-core                       4.9.2\n",
      "jupyter-server                     1.13.5\n",
      "jupyterlab                         3.2.9\n",
      "jupyterlab-pygments                0.1.2\n",
      "jupyterlab-server                  2.10.3\n",
      "jupyterlab-widgets                 1.0.0\n",
      "keyring                            23.4.0\n",
      "kiwisolver                         1.3.2\n",
      "lazy-object-proxy                  1.6.0\n",
      "libarchive-c                       2.9\n",
      "llvmlite                           0.36.0\n",
      "locket                             0.2.1\n",
      "lxml                               4.8.0\n",
      "mapclassify                        2.4.3\n",
      "MarkupSafe                         2.0.1\n",
      "matplotlib                         3.5.1\n",
      "matplotlib-inline                  0.1.2\n",
      "mccabe                             0.6.1\n",
      "menuinst                           1.4.18\n",
      "missingno                          0.5.0\n",
      "mistune                            0.8.4\n",
      "mkl-fft                            1.3.1\n",
      "mkl-random                         1.2.2\n",
      "mkl-service                        2.4.0\n",
      "mock                               4.0.3\n",
      "more-itertools                     8.12.0\n",
      "mpmath                             1.2.1\n",
      "msgpack                            1.0.2\n",
      "multimethod                        1.7\n",
      "multipledispatch                   0.6.0\n",
      "multitasking                       0.0.10\n",
      "munch                              2.5.0\n",
      "munkres                            1.1.4\n",
      "mypy-extensions                    0.4.3\n",
      "navigator-updater                  0.2.1\n",
      "nbclassic                          0.3.5\n",
      "nbclient                           0.5.11\n",
      "nbconvert                          6.1.0\n",
      "nbformat                           5.1.3\n",
      "nest-asyncio                       1.5.1\n",
      "networkx                           2.6.3\n",
      "nltk                               3.7\n",
      "nose                               1.3.7\n",
      "notebook                           6.4.8\n",
      "numba                              0.53.0\n",
      "numexpr                            2.8.1\n",
      "numpy                              1.21.5\n",
      "numpydoc                           1.2\n",
      "olefile                            0.46Note: you may need to restart the kernel to use updated packages.\n",
      "\n",
      "openpyxl                           3.0.9\n",
      "packaging                          21.3\n",
      "pandas                             1.4.1\n",
      "pandas-profiling                   3.1.1\n",
      "pandocfilters                      1.5.0\n",
      "paramiko                           2.8.1\n",
      "parso                              0.8.3\n",
      "partd                              1.2.0\n",
      "path                               16.2.0\n",
      "pathlib2                           2.3.6\n",
      "pathspec                           0.7.0\n",
      "patsy                              0.5.2\n",
      "pep8                               1.7.1\n",
      "pexpect                            4.8.0\n",
      "phik                               0.12.0\n",
      "pickleshare                        0.7.5\n",
      "Pillow                             9.0.1\n",
      "pip                                21.2.4\n",
      "pipreqs                            0.4.11\n",
      "pkginfo                            1.8.2\n",
      "plotly                             5.6.0\n",
      "pluggy                             1.0.0\n",
      "ply                                3.11\n",
      "poyo                               0.5.0\n",
      "prometheus-client                  0.13.1\n",
      "prompt-toolkit                     3.0.20\n",
      "psutil                             5.8.0\n",
      "ptyprocess                         0.7.0\n",
      "py                                 1.11.0\n",
      "pycodestyle                        2.7.0\n",
      "pycosat                            0.6.3\n",
      "pycparser                          2.21\n",
      "pycurl                             7.44.1\n",
      "pydantic                           1.9.0\n",
      "pydocstyle                         6.1.1\n",
      "pyerfa                             2.0.0\n",
      "pyflakes                           2.3.1\n",
      "Pygments                           2.11.2\n",
      "PyJWT                              2.1.0\n",
      "pylint                             2.9.6\n",
      "pyls-spyder                        0.4.0\n",
      "PyNaCl                             1.4.0\n",
      "pyodbc                             4.0.0-unsupported\n",
      "pyOpenSSL                          21.0.0\n",
      "pyparsing                          3.0.4\n",
      "pyproj                             2.6.1.post1\n",
      "pyreadline                         2.1\n",
      "pyrsistent                         0.18.0\n",
      "PySocks                            1.7.1\n",
      "pytest                             6.2.5\n",
      "python-dateutil                    2.8.2\n",
      "python-lsp-black                   1.0.0\n",
      "python-lsp-jsonrpc                 1.0.0\n",
      "python-lsp-server                  1.2.4\n",
      "python-slugify                     5.0.2\n",
      "pytz                               2021.3\n",
      "PyWavelets                         1.1.1\n",
      "pywin32                            302\n",
      "pywin32-ctypes                     0.2.0\n",
      "pywinpty                           2.0.2\n",
      "PyYAML                             6.0\n",
      "pyzmq                              22.3.0\n",
      "QDarkStyle                         3.0.2\n",
      "qstylizer                          0.1.10\n",
      "QtAwesome                          1.0.3\n",
      "qtconsole                          5.2.2\n",
      "QtPy                               1.11.2\n",
      "regex                              2021.8.3\n",
      "requests                           2.27.1\n",
      "rope                               0.22.0\n",
      "Rtree                              0.9.7\n",
      "ruamel-yaml-conda                  0.15.100\n",
      "scikit-image                       0.18.3\n",
      "scikit-learn                       1.0.2\n",
      "scikit-learn-intelex               2021.20220215.102710\n",
      "scipy                              1.7.3\n",
      "seaborn                            0.11.2\n",
      "Send2Trash                         1.8.0\n",
      "setuptools                         58.0.4\n",
      "Shapely                            1.8.1.post1\n",
      "simplegeneric                      0.8.1\n",
      "singledispatch                     3.7.0\n",
      "sip                                4.19.13\n",
      "six                                1.16.0\n",
      "sniffio                            1.2.0\n",
      "snowballstemmer                    2.2.0\n",
      "sortedcollections                  2.1.0\n",
      "sortedcontainers                   2.4.0\n",
      "soupsieve                          2.3.1\n",
      "Sphinx                             4.4.0\n",
      "sphinxcontrib-applehelp            1.0.2\n",
      "sphinxcontrib-devhelp              1.0.2\n",
      "sphinxcontrib-htmlhelp             2.0.0\n",
      "sphinxcontrib-jsmath               1.0.1\n",
      "sphinxcontrib-qthelp               1.0.3\n",
      "sphinxcontrib-serializinghtml      1.1.5\n",
      "sphinxcontrib-websupport           1.2.4\n",
      "spyder                             5.1.5\n",
      "spyder-kernels                     2.1.3\n",
      "SQLAlchemy                         1.4.27\n",
      "statsmodels                        0.13.0\n",
      "sympy                              1.9\n",
      "tables                             3.6.1\n",
      "tabula-py                          2.3.0\n",
      "tangled-up-in-unicode              0.2.0\n",
      "TBB                                0.2\n",
      "tblib                              1.7.0\n",
      "tenacity                           8.0.1\n",
      "terminado                          0.13.1\n",
      "testpath                           0.5.0\n",
      "text-unidecode                     1.3\n",
      "textdistance                       4.2.1\n",
      "threadpoolctl                      2.2.0\n",
      "three-merge                        0.1.1\n",
      "tifffile                           2021.7.2\n",
      "tinycss                            0.4\n",
      "toml                               0.10.2\n",
      "toolz                              0.11.2\n",
      "tornado                            6.1\n",
      "tqdm                               4.62.3\n",
      "traitlets                          5.1.1\n",
      "typed-ast                          1.4.3\n",
      "typing-extensions                  3.10.0.2\n",
      "ujson                              4.0.2\n",
      "unicodecsv                         0.14.1\n",
      "Unidecode                          1.2.0\n",
      "urllib3                            1.26.8\n",
      "visions                            0.7.4\n",
      "watchdog                           2.1.6\n",
      "wcwidth                            0.2.5\n",
      "webencodings                       0.5.1\n",
      "websocket-client                   0.58.0\n",
      "Werkzeug                           2.0.3\n",
      "wheel                              0.37.1\n",
      "whichcraft                         0.6.1\n",
      "widgetsnbextension                 3.5.2\n",
      "win-inet-pton                      1.1.0\n",
      "win-unicode-console                0.5\n",
      "wincertstore                       0.2\n",
      "wordcloud                          1.8.1\n",
      "wrapt                              1.12.1\n",
      "xlrd                               2.0.1\n",
      "XlsxWriter                         3.0.2\n",
      "xlwings                            0.24.9\n",
      "xlwt                               1.3.0\n",
      "yapf                               0.31.0\n",
      "yarg                               0.1.9\n",
      "yfinance                           0.1.70\n",
      "zict                               2.0.0\n",
      "zipp                               3.7.0\n",
      "zope.event                         4.5.0\n",
      "zope.interface                     5.4.0\n"
     ]
    }
   ],
   "source": [
    "pip list"
   ]
  },
  {
   "cell_type": "code",
   "execution_count": 15,
   "id": "f615b67c",
   "metadata": {},
   "outputs": [],
   "source": [
    "!pip3 freeze > requirements.txt"
   ]
  },
  {
   "cell_type": "markdown",
   "id": "43311de1",
   "metadata": {},
   "source": [
    "### Ocultando mensagens de avisos no Pandas:"
   ]
  },
  {
   "cell_type": "code",
   "execution_count": null,
   "id": "04318850",
   "metadata": {},
   "outputs": [],
   "source": [
    "import warnings\n",
    "\n",
    "from pandas.core.common import SettingWithCopyWarning\n",
    "\n",
    "warnings.simplefilter(action=\"ignore\", category=SettingWithCopyWarning)"
   ]
  },
  {
   "cell_type": "markdown",
   "id": "0c64db28",
   "metadata": {},
   "source": [
    "## Importando os arquivos .csv e atribuindo a variáveis:"
   ]
  },
  {
   "cell_type": "code",
   "execution_count": null,
   "id": "00ca5c49",
   "metadata": {},
   "outputs": [],
   "source": [
    "d_2019 = pd.read_csv('../Dados_csv/Ano-2019.csv', sep=';')\n",
    "d_2020 = pd.read_csv('../Dados_csv/Ano-2020.csv', sep=';')\n",
    "d_2021 = pd.read_csv('../Dados_csv/Ano-2021.csv', sep=';')\n",
    "\n",
    "print('O dataset de 2019 tem', d_2019.shape[0], 'linhas e', d_2019.shape[1], 'colunas.\\n'\n",
    "      'O dataset de 2020 tem', d_2020.shape[0], 'linhas e', d_2020.shape[1], 'colunas.\\n'\n",
    "      'O dataset de 2021 tem', d_2021.shape[0], 'linhas e', d_2021.shape[1], 'colunas.')"
   ]
  },
  {
   "cell_type": "markdown",
   "id": "d5125572",
   "metadata": {},
   "source": [
    "## Unificando as bases 2019, 2020 e 2021 em um único DataFrame:"
   ]
  },
  {
   "cell_type": "code",
   "execution_count": null,
   "id": "c3fdc6f7",
   "metadata": {},
   "outputs": [],
   "source": [
    "d_unificado = pd.concat([d_2019,d_2020,d_2021])\n",
    "\n",
    "print('O dataframe unificado possui', d_unificado.shape[0], 'linhas e', d_unificado.shape[1], 'colunas')"
   ]
  },
  {
   "cell_type": "markdown",
   "id": "0e2acccc",
   "metadata": {},
   "source": [
    "## Verificando os nomes das colunas:"
   ]
  },
  {
   "cell_type": "code",
   "execution_count": null,
   "id": "4f2ebbbb",
   "metadata": {},
   "outputs": [],
   "source": [
    "d_unificado.columns"
   ]
  },
  {
   "cell_type": "markdown",
   "id": "51240fd9",
   "metadata": {},
   "source": [
    "   ><b>OBS:</b>A formatação do nome das colunas está no padrão \"CamelCase\""
   ]
  },
  {
   "cell_type": "markdown",
   "id": "f4697304",
   "metadata": {},
   "source": [
    "## Checando o espaço físico do dataset unificado:"
   ]
  },
  {
   "cell_type": "code",
   "execution_count": null,
   "id": "6eac30ce",
   "metadata": {},
   "outputs": [],
   "source": [
    "tamanho = sum(d_unificado.memory_usage())\n",
    "\n",
    "print('O espaço físico ocupado em MB pelo dataset unificado é de', tamanho/1000000, 'MB')"
   ]
  },
  {
   "cell_type": "markdown",
   "id": "63b85251",
   "metadata": {},
   "source": [
    "## Checando os tipos de formatos em todas as colunas:"
   ]
  },
  {
   "cell_type": "code",
   "execution_count": null,
   "id": "e5b11abc",
   "metadata": {},
   "outputs": [],
   "source": [
    "d_unificado.dtypes"
   ]
  },
  {
   "cell_type": "code",
   "execution_count": null,
   "id": "7925dcc4",
   "metadata": {},
   "outputs": [],
   "source": []
  },
  {
   "cell_type": "markdown",
   "id": "9db35466",
   "metadata": {},
   "source": [
    "><b>OBSERVAÇÕES:</b>\n",
    ">>1. Verificado que a coluna 'datEmissao' está no formato <b>'Object'</b>, a mesma deverá ser convertida para o formato de data.\n",
    ">>2. Verificado que as colunas que contém os valores das despesas já estão em formato <b>'float64'</b>, dispensando assim sua conversão, salvo se a formatação do separador de centavos estiver fora do padrão americano (ponto)."
   ]
  },
  {
   "cell_type": "markdown",
   "id": "703db963",
   "metadata": {},
   "source": [
    "## Verificando o percentual de valores nulos ('NaN') no dataset unificado:"
   ]
  },
  {
   "cell_type": "markdown",
   "id": "96c05c62",
   "metadata": {},
   "source": [
    ">Nessa etapa o .isnull() foi utilizado, acompanhado do .mean() para encontrar o percentual de d_copia faltantes em cada coluna deste dataset."
   ]
  },
  {
   "cell_type": "code",
   "execution_count": null,
   "id": "5fe0c2df",
   "metadata": {},
   "outputs": [],
   "source": [
    "percentual_nulos = pd.DataFrame(round(d_unificado.isnull().mean()*100,2)) # Número de dados nulos em percentual\n",
    "\n",
    "percentual_nulos.rename(columns={0:'Percentual de Dados Nulos (%)'}) "
   ]
  },
  {
   "cell_type": "markdown",
   "id": "e8bfb79c",
   "metadata": {},
   "source": [
    "><b>OBSERVAÇÕES:</b>\n",
    ">>Verificado altos índices de valores nulos (faltantes) nas seguintes colunas:\n",
    "    >>><b>vlrRestituicao (99,93%)</b>    \n",
    "    >>><b>txtTrecho (76,88%)</b>     \n",
    "    >>><b>txtPassageiro (76,69%)</b>    \n",
    "    >>><b>txtDescricaoEspecificacao (75,49%)</b>    \n",
    "    >>><b>urlDocumento (37,06%)</b>\n",
    "\n",
    ">>No entanto, nas colunas que se referem aos valores financeiros o índice de valores nulos é aceitável."
   ]
  },
  {
   "cell_type": "markdown",
   "id": "802a238d",
   "metadata": {},
   "source": [
    "# Tratamento e Limpeza dos Dados"
   ]
  },
  {
   "cell_type": "markdown",
   "id": "686e2dfb",
   "metadata": {},
   "source": [
    "### Configurando o Pandas para exibição de todas as 31 colunas do dataset:"
   ]
  },
  {
   "cell_type": "code",
   "execution_count": null,
   "id": "dfa4883b",
   "metadata": {},
   "outputs": [],
   "source": [
    "pd.set_option('display.max_columns',31) # Setando o Pandas para exibir todas as 31 colunas"
   ]
  },
  {
   "cell_type": "markdown",
   "id": "d0dde3d8",
   "metadata": {},
   "source": [
    "### Convertendo a coluna 'datEmissao' do tipo 'Object' para o tipo 'Datetime' em todos as fontes de dados:"
   ]
  },
  {
   "cell_type": "code",
   "execution_count": null,
   "id": "85dc17f9",
   "metadata": {},
   "outputs": [],
   "source": [
    "d_2019['datEmissao'] = pd.to_datetime(d_2019['datEmissao'], format = '%Y/%m/%d')\n",
    "\n",
    "d_2020['datEmissao'] = pd.to_datetime(d_2020['datEmissao'], format = '%Y/%m/%d')\n",
    "\n",
    "d_2021['datEmissao'] = pd.to_datetime(d_2021['datEmissao'], format = '%Y/%m/%d')\n",
    "\n",
    "d_unificado['datEmissao'] = pd.to_datetime(d_unificado['datEmissao'], format = '%Y/%m/%d')"
   ]
  },
  {
   "cell_type": "markdown",
   "id": "7b7e48e9",
   "metadata": {},
   "source": [
    "### Criando uma cópia do dataset como Boa Prática de Programação:"
   ]
  },
  {
   "cell_type": "code",
   "execution_count": null,
   "id": "23087bcf",
   "metadata": {},
   "outputs": [],
   "source": [
    "d_copia = d_unificado"
   ]
  },
  {
   "cell_type": "markdown",
   "id": "42d8662f",
   "metadata": {},
   "source": [
    "### Verificando a existência de despesas sem atribuição do partido político:"
   ]
  },
  {
   "cell_type": "code",
   "execution_count": null,
   "id": "cd7eec97",
   "metadata": {},
   "outputs": [],
   "source": [
    "sem_partido = d_copia.query('sgPartido.isnull()')"
   ]
  },
  {
   "cell_type": "markdown",
   "id": "ebb9285f",
   "metadata": {},
   "source": [
    "### Verificado após uma amostragem que os lançamentos sem partidos políticos, se referem a lançamentos de suas lideranças partidárias."
   ]
  },
  {
   "cell_type": "code",
   "execution_count": null,
   "id": "98d6f74f",
   "metadata": {},
   "outputs": [],
   "source": [
    "sem_partido['txNomeParlamentar'].unique()"
   ]
  },
  {
   "cell_type": "code",
   "execution_count": null,
   "id": "472e0062",
   "metadata": {},
   "outputs": [],
   "source": [
    "sem_partido.sample(5)"
   ]
  },
  {
   "cell_type": "markdown",
   "id": "f057917f",
   "metadata": {},
   "source": [
    "### Obtendo os nomes únicos das Lideranças Partidárias:"
   ]
  },
  {
   "cell_type": "code",
   "execution_count": null,
   "id": "e2aa9e93",
   "metadata": {},
   "outputs": [],
   "source": [
    "lista_liderancas = sem_partido['txNomeParlamentar'].value_counts()\n",
    "\n",
    "lista_liderancas = lista_liderancas.reset_index()\n",
    "\n",
    "lista_liderancas = pd.DataFrame(lista_liderancas)\n",
    "\n",
    "partidos_completo = lista_liderancas['index'].str.split()\n",
    "\n",
    "partidos = []\n",
    "\n",
    "for i in partidos_completo:\n",
    "    partidos.append(i[-1])\n",
    "    \n",
    "lista_liderancas['Partido'] = partidos\n",
    "\n",
    "del(lista_liderancas['txNomeParlamentar'])\n",
    "\n",
    "lista_liderancas.rename(columns={'index': 'Nomes_partidos'}, inplace=True)\n",
    "\n",
    "lista_liderancas"
   ]
  },
  {
   "cell_type": "markdown",
   "id": "e056b8d6",
   "metadata": {},
   "source": [
    "### Atribuindo as Lideranças Partidárias aos seus respectivos partidos políticos:"
   ]
  },
  {
   "cell_type": "code",
   "execution_count": null,
   "id": "503d5c14",
   "metadata": {},
   "outputs": [],
   "source": [
    "d_copia['sgPartido'] = np.where(d_copia['txNomeParlamentar'] == \"LIDERANÇA DO PSL\", 'PSL', d_copia.sgPartido)\n",
    "d_copia['sgPartido'] = np.where(d_copia['txNomeParlamentar'] == \"LIDERANÇA DO PT\", 'PT', d_copia.sgPartido)\n",
    "d_copia['sgPartido'] = np.where(d_copia['txNomeParlamentar'] == \"LIDERANÇA DO PTB\", 'PTB', d_copia.sgPartido) \n",
    "d_copia['sgPartido'] = np.where(d_copia['txNomeParlamentar'] == \"LIDERANÇA DO PSDB\", 'PSDB', d_copia.sgPartido)\n",
    "d_copia['sgPartido'] = np.where(d_copia['txNomeParlamentar'] == \"LIDERANÇA DO PODEMOS\", 'PODEMOS', d_copia.sgPartido)\n",
    "d_copia['sgPartido'] = np.where(d_copia['txNomeParlamentar'] == \"LIDERANÇA DO SOLIDARIEDADE\", 'SOLIDARIEDADE', d_copia.sgPartido)\n",
    "d_copia['sgPartido'] = np.where(d_copia['txNomeParlamentar'] == \"LIDERANÇA DO PSD\", 'PSD', d_copia.sgPartido)\n",
    "d_copia['sgPartido'] = np.where(d_copia['txNomeParlamentar'] == \"LIDERANÇA DO NOVO\", 'NOVO', d_copia.sgPartido)\n",
    "d_copia['sgPartido'] = np.where(d_copia['txNomeParlamentar'] == \"LIDERANÇA DO DEMOCRATAS\", 'DEMOCRATAS', d_copia.sgPartido)\n",
    "d_copia['sgPartido'] = np.where(d_copia['txNomeParlamentar'] == \"LIDERANÇA DO CIDADANIA\", 'CIDADANIA', d_copia.sgPartido)\n",
    "d_copia['sgPartido'] = np.where(d_copia['txNomeParlamentar'] == \"LIDERANÇA DO AVANTE\", 'AVANTE', d_copia.sgPartido)\n",
    "d_copia['sgPartido'] = np.where(d_copia['txNomeParlamentar'] == \"LIDERANÇA DO PDT\", 'PDT', d_copia.sgPartido)\n",
    "d_copia['sgPartido'] = np.where(d_copia['txNomeParlamentar'] == \"LIDERANÇA DO PSOL\", 'PSOL', d_copia.sgPartido)\n",
    "d_copia['sgPartido'] = np.where(d_copia['txNomeParlamentar'] == \"LIDERANÇA DO PROGRESSISTAS\", 'PROGRESSISTAS', d_copia.sgPartido)\n",
    "d_copia['sgPartido'] = np.where(d_copia['txNomeParlamentar'] == \"LIDERANÇA DO PARTIDO REPUBLICANO DA ORDEM SOCIAL\", 'REPUBLICANOS', d_copia.sgPartido)"
   ]
  },
  {
   "cell_type": "markdown",
   "id": "6ebed40b",
   "metadata": {},
   "source": [
    "### Checando os dados das Lideranças que ficaram sem Partidos:"
   ]
  },
  {
   "cell_type": "code",
   "execution_count": null,
   "id": "fc750fb5",
   "metadata": {},
   "outputs": [],
   "source": [
    "d_copia[d_copia['sgPartido'].isnull()]['txNomeParlamentar'].unique()"
   ]
  },
  {
   "cell_type": "markdown",
   "id": "0bd63b30",
   "metadata": {},
   "source": [
    "### Filtrando apenas os valores Positivos na coluna 'vlrLiquido' "
   ]
  },
  {
   "cell_type": "code",
   "execution_count": null,
   "id": "3584225c",
   "metadata": {},
   "outputs": [],
   "source": [
    "valor_positivo = d_copia.query('vlrLiquido > 0')"
   ]
  },
  {
   "cell_type": "code",
   "execution_count": null,
   "id": "3f292653",
   "metadata": {},
   "outputs": [],
   "source": [
    "d_copia.query('vlrLiquido < 0')['txtDescricao'].unique()"
   ]
  },
  {
   "cell_type": "markdown",
   "id": "23d28ade",
   "metadata": {},
   "source": [
    "><b>OBSERVAÇÃO 1:</b> \n",
    ">>À fim de averiguarmos os valores negativos diferentes de Passagens Aéreas (cujas regras diferem dos demais lançamentos - tema explicado no dicionário das variáveis), realizamos a checagem dos lançamentos negativos e constatamos que, se tratam de inconsistências de lançamentos como o apontado abaixo do parlamentar Eduardo Bolsonaro:"
   ]
  },
  {
   "cell_type": "code",
   "execution_count": null,
   "id": "e4908976",
   "metadata": {},
   "outputs": [],
   "source": [
    "d_copia[(d_copia['txtDescricao']=='LOCAÇÃO OU FRETAMENTO DE VEÍCULOS AUTOMOTORES')&(d_copia['vlrLiquido']< 0)]"
   ]
  },
  {
   "cell_type": "markdown",
   "id": "9271504e",
   "metadata": {},
   "source": [
    "><b>OBSERVAÇÃO 2:</b> \n",
    ">>Ao realizarmos a filtragem pelo Estado do Mato Grosso (MT) não identificamos nenhum lançamento negativo, à não ser os já explicados que são os valores de passagens aéreas que seguem outras regras de lançamentos (compensação).Dessa forma, reiteramos que retiramos os valores negativos do dataset filtrado."
   ]
  },
  {
   "cell_type": "markdown",
   "id": "97dbfdde",
   "metadata": {},
   "source": [
    "### Filtrando apenas os lançamentos do Estado do Mato Grosso (MT) e gerando o dataset \"dados_mt\" que será a base de análise pela equipe de projeto."
   ]
  },
  {
   "cell_type": "code",
   "execution_count": null,
   "id": "bd76b45d",
   "metadata": {},
   "outputs": [],
   "source": [
    "dados_mt = valor_positivo.query('sgUF == \"MT\"')\n",
    "\n",
    "dados_mt.sample(10)"
   ]
  },
  {
   "cell_type": "code",
   "execution_count": null,
   "id": "d2d495e9",
   "metadata": {},
   "outputs": [],
   "source": [
    "dados_mt.head()"
   ]
  },
  {
   "cell_type": "code",
   "execution_count": null,
   "id": "b3bc3195",
   "metadata": {},
   "outputs": [],
   "source": [
    "dados_mt.query('txtFornecedor == \"3T HOLDING DE PARTICIPAÇÕES LTDA-EPP\"')['vlrLiquido'].sum()"
   ]
  },
  {
   "cell_type": "code",
   "execution_count": null,
   "id": "182b80a2",
   "metadata": {},
   "outputs": [],
   "source": [
    "dados_mt.query('txtFornecedor == \"3T HOLDING DE PARTICIPACOES LTDA\"')['vlrLiquido'].sum()"
   ]
  },
  {
   "cell_type": "code",
   "execution_count": null,
   "id": "f1af884f",
   "metadata": {},
   "outputs": [],
   "source": [
    "dados_mt.query('txtFornecedor.str.contains(\"3T\")')['vlrLiquido'].sum()"
   ]
  },
  {
   "cell_type": "code",
   "execution_count": null,
   "id": "c3644a65",
   "metadata": {},
   "outputs": [],
   "source": [
    "82680.37 - 4692.34"
   ]
  },
  {
   "cell_type": "code",
   "execution_count": null,
   "id": "c54f0c87",
   "metadata": {},
   "outputs": [],
   "source": [
    "dados_mt.shape"
   ]
  },
  {
   "cell_type": "markdown",
   "id": "91ec029d",
   "metadata": {},
   "source": [
    "### Exportando o dataset para o formato .csv:"
   ]
  },
  {
   "cell_type": "code",
   "execution_count": null,
   "id": "393c5037",
   "metadata": {},
   "outputs": [],
   "source": [
    "#dados_mt.to_csv('teste_dados_mt.csv', index=False)"
   ]
  },
  {
   "cell_type": "markdown",
   "id": "ccf74b76",
   "metadata": {},
   "source": [
    "# Avaliação Estatística dos Dados Filtrados no dataframe \"dados_mt\""
   ]
  },
  {
   "cell_type": "markdown",
   "id": "5a90a5c3",
   "metadata": {},
   "source": [
    ">Começamos a avaliação estatística dos dados filtrados no dataframe 'dados_mt' com a aplicação do método Describe:"
   ]
  },
  {
   "cell_type": "code",
   "execution_count": null,
   "id": "14898a05",
   "metadata": {},
   "outputs": [],
   "source": [
    "dados_mt.describe().T"
   ]
  },
  {
   "cell_type": "markdown",
   "id": "680c62cb",
   "metadata": {},
   "source": [
    "><b>OBSERVAÇÃO:</b> \n",
    ">>Através do método do Describe podemos observar que o dataset possui uma boa consistência de dados, quanto ao preenchimento. <br>Apenas as colunas 'vlrRestituição' e 'cpf' possuem valores faltantes."
   ]
  },
  {
   "cell_type": "markdown",
   "id": "12e86e18",
   "metadata": {},
   "source": [
    ">O box plot dá uma ideia da posição, dispersão, assimetria, caudas e dados discrepantes (outliers). <br>A posição central\n",
    "é dada pela Mediana e a dispersão por IIQ (Intervalo entre Quartis).\n",
    "<br>As posições relativas de Q1, Mediana e Q3 dão uma noção da simetria da distribuição.\n",
    "<br>Os comprimentos das caudas são dados pelas linhas que vão do retângulo aos valores remotos e pelos valores atípicos."
   ]
  },
  {
   "cell_type": "markdown",
   "id": "98ed90aa",
   "metadata": {},
   "source": [
    "<p><img src=\"https://miro.medium.com/max/1400/1*2c21SkzJMf3frPXPAR_gZA.png\" width=\"800\" height=\"400\"></p>"
   ]
  },
  {
   "cell_type": "code",
   "execution_count": null,
   "id": "59abc090",
   "metadata": {},
   "outputs": [],
   "source": [
    "sns.set_style(\"darkgrid\", {\"grid.color\": \".6\", \"grid.linestyle\": \":\"})\n",
    "ax = sns.boxplot(x = 'vlrLiquido', data = dados_mt, orient = 'h')\n",
    "ax.figure.set_size_inches(12,6)\n",
    "ax.set_title('Variação das Despesas Parlamentares', fontsize=18)\n",
    "ax.set_xlabel('Reais', fontsize=14)\n",
    "ax\n",
    "print()"
   ]
  },
  {
   "cell_type": "markdown",
   "id": "ff12b834",
   "metadata": {},
   "source": [
    "# Análise Exploratória para Resolução das Questões Predefinidas:"
   ]
  },
  {
   "cell_type": "markdown",
   "id": "51b15dc9",
   "metadata": {},
   "source": [
    "## 1 - Como se comportam os gastos com cotas parlamentares ao longo do tempo? Existe alguma tendência de aumento ou redução desse custo?"
   ]
  },
  {
   "cell_type": "markdown",
   "id": "e1e1c6f1",
   "metadata": {},
   "source": [
    "><b>Obs:</b> Utilizado como referência a coluna 'vlrLiquido' conforme discrimina o Dicionário de Dados: \n",
    "     <p>O seu conteúdo representa o valor líquido do documento fiscal ou do documento que deu causa à despesa\n",
    "     e será calculado pela diferença entre o Valor do Documento e o Valor da Glosa. <p>É este valor que será \n",
    "     debitado da cota do deputado. Caso o débito seja do Tipo Telefonia e o valor seja igual a zero, significa\n",
    "     que a despesa foi franqueada."
   ]
  },
  {
   "cell_type": "markdown",
   "id": "12bb27fa",
   "metadata": {},
   "source": [
    "## 1.1 - Obtendo as despesas no período de 2019 a 2021"
   ]
  },
  {
   "cell_type": "markdown",
   "id": "039dc0e4",
   "metadata": {},
   "source": [
    "Aqui a opção foi usar o método dt.to_period('M') para agrupar os períodos por mês para facilitar a visualização"
   ]
  },
  {
   "cell_type": "code",
   "execution_count": null,
   "id": "bca0cc53",
   "metadata": {},
   "outputs": [],
   "source": [
    "despesas_por_mes = dados_mt.groupby(dados_mt['datEmissao'].dt.to_period('M'))['vlrLiquido'].sum().reset_index()\n",
    "\n",
    "despesas_por_mes"
   ]
  },
  {
   "cell_type": "markdown",
   "id": "4c7a6f10",
   "metadata": {},
   "source": [
    "Para criação do gráfico com as datas, precisamos converter a coluna 'datEmissao' do tipo datetime para o tipo string:"
   ]
  },
  {
   "cell_type": "code",
   "execution_count": null,
   "id": "6dd66594",
   "metadata": {},
   "outputs": [],
   "source": [
    "despesas_por_mes['datEmissao'] = despesas_por_mes['datEmissao'].astype(str)"
   ]
  },
  {
   "cell_type": "markdown",
   "id": "64fb9d02",
   "metadata": {},
   "source": [
    "## 1.2 - Representação gráfica das despesas ao longo do período:"
   ]
  },
  {
   "cell_type": "code",
   "execution_count": null,
   "id": "9423fac9",
   "metadata": {},
   "outputs": [],
   "source": [
    "eixo_data = despesas_por_mes['datEmissao']\n",
    "\n",
    "eixo_valores = despesas_por_mes['vlrLiquido'] \n",
    "\n",
    "fig, ax = plt.subplots(figsize=(18, 6))\n",
    "\n",
    "# Adiconando títulos\n",
    "plt.title(\"Evolução dos gastos de Cota para o Exercício da Atividade Parlamentar no período de 2019 a 2021 \", loc='left', fontsize=14, fontweight=0)\n",
    "plt.xlabel(\"Período\", fontsize=15)\n",
    "plt.ylabel(\"Valor em reais\", fontsize=15)\n",
    "plt.yticks(fontsize=10)\n",
    "plt.xticks(fontsize=10)\n",
    "\n",
    "# rotacionar das datas\n",
    "fig.autofmt_xdate()\n",
    "\n",
    "plt.plot(eixo_data, eixo_valores)\n",
    "print()"
   ]
  },
  {
   "cell_type": "markdown",
   "id": "63049b34",
   "metadata": {},
   "source": [
    "## 2 - Qual a média de gastos por parlamentar?"
   ]
  },
  {
   "cell_type": "code",
   "execution_count": null,
   "id": "95afc968",
   "metadata": {},
   "outputs": [],
   "source": [
    "dados_mt.txNomeParlamentar.value_counts()"
   ]
  },
  {
   "cell_type": "code",
   "execution_count": null,
   "id": "61478fcb",
   "metadata": {},
   "outputs": [],
   "source": [
    "a = dados_mt[['txNomeParlamentar', 'sgPartido','vlrLiquido']].groupby(['txNomeParlamentar', 'sgPartido']).mean().sort_values('vlrLiquido',ascending=False).round(2)\n",
    "\n",
    "a.rename(columns={'vlrLiquido':'Média Despesas'}, inplace=True)\n",
    "\n",
    "a = a.reset_index()\n",
    "\n",
    "a"
   ]
  },
  {
   "cell_type": "code",
   "execution_count": null,
   "id": "860134bc",
   "metadata": {},
   "outputs": [],
   "source": [
    "fig, ax = plt.subplots(figsize=(14, 8))\n",
    "plt.title('Média de gastos mensais por parlamentar', fontsize=20)\n",
    "\n",
    "sns.set(font_scale=2)\n",
    "sns.barplot(x=\"Média Despesas\", y=\"txNomeParlamentar\",data=a.sort_values(by='Média Despesas', ascending=False)[:15]);\n",
    "plt.ylabel('Parlamentar', fontsize=12)\n",
    "plt.xlabel('Valor em Reais R$', fontsize=12)\n",
    "plt.yticks(fontsize=12)\n",
    "plt.xticks(fontsize=12)\n",
    "\n",
    "plt.tight_layout()"
   ]
  },
  {
   "cell_type": "markdown",
   "id": "e29a8213",
   "metadata": {},
   "source": [
    "## 3 - Quais foram os parlamentares que mais e que menos consumiram recursos?"
   ]
  },
  {
   "cell_type": "code",
   "execution_count": null,
   "id": "9d462744",
   "metadata": {},
   "outputs": [],
   "source": [
    "desp_maxima_parlamentar = dados_mt[['txNomeParlamentar','sgPartido', 'vlrLiquido']].groupby(['txNomeParlamentar', 'sgPartido']).sum().sort_values('vlrLiquido',ascending=False).round(2).reset_index()\n",
    "\n",
    "desp_maxima_parlamentar.rename(columns={'vlrLiquido':'Despesas Máximas R$'}, inplace=True)\n",
    "\n",
    "desp_maxima_parlamentar = desp_maxima_parlamentar.head()\n",
    "\n",
    "desp_maxima_parlamentar.style.format({'Despesas Máximas R$':'R$ {:.2F}'}).background_gradient(cmap='Reds')"
   ]
  },
  {
   "cell_type": "code",
   "execution_count": null,
   "id": "a79133b1",
   "metadata": {},
   "outputs": [],
   "source": [
    "fig, ax = plt.subplots(figsize=(14, 8))\n",
    "plt.title('Parlamentares que consumiram mais recursos no Período de 2019 a 2021', fontsize=20)\n",
    "\n",
    "grafico = sns.barplot(y = 'txNomeParlamentar', x = 'Despesas Máximas R$', data = desp_maxima_parlamentar[:10])\n",
    "grafico.bar_label(grafico.containers[0], fontsize=12)\n",
    "plt.ylabel('Parlamentar', fontsize=15)\n",
    "plt.xlabel('Valor em Milhões de Reais R$', fontsize=15)\n",
    "plt.yticks(fontsize=12)\n",
    "plt.xticks(fontsize=12)\n",
    "print()"
   ]
  },
  {
   "cell_type": "code",
   "execution_count": null,
   "id": "041f5ac5",
   "metadata": {},
   "outputs": [],
   "source": [
    "desp_minima_parlamentar = dados_mt[['txNomeParlamentar','sgPartido', 'vlrLiquido']].groupby(['txNomeParlamentar', 'sgPartido']).sum().sort_values('vlrLiquido',ascending=True).round(2).reset_index()\n",
    "\n",
    "desp_minima_parlamentar.rename(columns={'vlrLiquido':'Despesa Mínima R$'}, inplace=True)\n",
    "\n",
    "desp_minima_parlamentar = desp_minima_parlamentar.head()\n",
    "\n",
    "desp_minima_parlamentar.style.format({'Despesa Mínima R$':'R$ {:.2F}'}).background_gradient(cmap='Reds')"
   ]
  },
  {
   "cell_type": "code",
   "execution_count": null,
   "id": "4fd240da",
   "metadata": {},
   "outputs": [],
   "source": [
    "fig, ax = plt.subplots(figsize=(14, 8))\n",
    "plt.title('Parlamentares que consumiram menos recursos no Período de 2019 a 2021', fontsize=20)\n",
    "\n",
    "grafico = sns.barplot(y = 'txNomeParlamentar', x = 'Despesa Mínima R$', data = desp_minima_parlamentar[-10:])\n",
    "grafico.bar_label(grafico.containers[0], fontsize=12)\n",
    "plt.ylabel('Parlamentar')\n",
    "plt.xlabel('Valores em Reais (R$)')\n",
    "plt.xticks(fontsize=10)\n",
    "plt.yticks(fontsize=10)\n",
    "print()"
   ]
  },
  {
   "cell_type": "markdown",
   "id": "06190614",
   "metadata": {},
   "source": [
    "## 4 - Quais são as categorias de despesas mais onerosas dentre os recursos destinados às cotas parlamentares?"
   ]
  },
  {
   "cell_type": "code",
   "execution_count": null,
   "id": "54c1127e",
   "metadata": {},
   "outputs": [],
   "source": [
    "categorias_onerosas = dados_mt[['txtDescricao', 'vlrLiquido']].groupby('txtDescricao').sum().sort_values('vlrLiquido', ascending=False)\n",
    "\n",
    "categorias_onerosas.rename(columns={'vlrLiquido':'Valor Gasto na Categoria'}, inplace=True)\n",
    "\n",
    "categorias_onerosas = categorias_onerosas.reset_index() # Reset Index caso deseje gerar gráfico (ele reposiciona as colunas)\n",
    "\n",
    "categorias_onerosas.style.format({'Valor Gasto na Categoria':'R$ {:.2F}'}).background_gradient(cmap='Reds')"
   ]
  },
  {
   "cell_type": "markdown",
   "id": "4a2b040f",
   "metadata": {},
   "source": [
    "## 4.1 - Plotando um gráfico com as categorias mais onerosas:"
   ]
  },
  {
   "cell_type": "code",
   "execution_count": null,
   "id": "bec000f9",
   "metadata": {},
   "outputs": [],
   "source": [
    "# Determinando a categoria e valores:\n",
    "x = categorias_onerosas.txtDescricao\n",
    "y = categorias_onerosas['Valor Gasto na Categoria']/1000000\n",
    "\n",
    "# Ajustando o tamanho da Área do Gráfico:\n",
    "fig, ax = plt.subplots(figsize=(18, 12))\n",
    "  \n",
    "# Gerando o BarPlot Horizontal:\n",
    "ax.barh(x, y)\n",
    "  \n",
    "# Removendo as linhas de limites do gráfico:\n",
    "for s in ['top', 'bottom', 'left', 'right']:\n",
    "    ax.spines[s].set_visible(False)\n",
    "  \n",
    "# Removendo as marcações dos eixos x e y:\n",
    "ax.xaxis.set_ticks_position('none')\n",
    "ax.yaxis.set_ticks_position('none')\n",
    "  \n",
    "# Adicionando preenchimento entre eixos e rótulos:\n",
    "ax.xaxis.set_tick_params(pad=5)\n",
    "ax.yaxis.set_tick_params(pad=5)\n",
    "  \n",
    "# Adicionando as marcações do grid em x e y:\n",
    "ax.grid(visible=True, color='grey',\n",
    "        linestyle='-.', linewidth=0.5,\n",
    "        alpha=0.2)\n",
    "  \n",
    "# Mostrando os valores maiores no alto do gráfico:\n",
    "ax.invert_yaxis()\n",
    "  \n",
    "# Adicionando Rótulos nas Barras do Gráfico\n",
    "for i in ax.patches:\n",
    "    plt.text(i.get_width()+0.2, i.get_y()+0.5,\n",
    "             str(round((i.get_width()), 2)),\n",
    "             fontsize=12, fontweight='bold',\n",
    "             color='grey')\n",
    "  \n",
    "# Adicionando um Título ao Gráfico:\n",
    "ax.set_title('Despesas Totais por Categorias - Período de 2019 a 2021 - valores em Milhões de Reais',\n",
    "             loc='center', )\n",
    "\n",
    "plt.xticks(fontsize=12)\n",
    "plt.yticks(fontsize=12)\n",
    "  \n",
    "# # Adicionando uma Marca d'água no Gráfico\n",
    "# fig.text(0.9, 0.15, 'Márcio Estevam da Silva', fontsize=12,\n",
    "#          color='grey', ha='right', va='bottom',\n",
    "#          alpha=0.7)\n",
    "  \n",
    "# Mostra o gráfico:\n",
    "plt.show()"
   ]
  },
  {
   "cell_type": "markdown",
   "id": "66df90bc",
   "metadata": {},
   "source": [
    "## 5 - Quais são os trechos de viagem mais recorrentes entre as despesas de viagem?"
   ]
  },
  {
   "cell_type": "code",
   "execution_count": null,
   "id": "e780349d",
   "metadata": {},
   "outputs": [],
   "source": [
    "trecho_viagem = dados_mt['txtTrecho'].dropna().value_counts()\n",
    "\n",
    "trecho_viagem = trecho_viagem.reset_index()\n",
    "\n",
    "trecho_viagem.rename(columns={'index':'Origem / Destino', 'txtTrecho':'Qtde de Viagens'}, inplace=True)\n",
    "\n",
    "trecho_viagem = trecho_viagem.head(20)\n",
    "\n",
    "trecho_viagem"
   ]
  },
  {
   "cell_type": "code",
   "execution_count": null,
   "id": "79841fdf",
   "metadata": {},
   "outputs": [],
   "source": [
    "aeroportos = { 'Siglas':['BSB', 'CGB', 'OPS', 'SMT', 'GRU', 'CGH', 'SXO'],\n",
    "               'Cidades': ['Brasília', 'Cuiabá', 'Sinop', 'Sorriso', 'Guarulhos', 'São Paulo', 'São Félix do Araguaia'],\n",
    "               'Estados': ['DF', 'MT', 'MT', 'MT', 'SP', 'SP', 'MT']\n",
    "             }\n",
    "aeroportos = pd.DataFrame(aeroportos)\n",
    "\n",
    "aeroportos"
   ]
  },
  {
   "cell_type": "code",
   "execution_count": null,
   "id": "b566c775",
   "metadata": {},
   "outputs": [],
   "source": [
    "trecho_viagem['Origem'] = trecho_viagem['Origem / Destino'].str[0:3]\n",
    "trecho_viagem['Destino'] = trecho_viagem['Origem / Destino'].str[-3:]"
   ]
  },
  {
   "cell_type": "code",
   "execution_count": null,
   "id": "32eacba6",
   "metadata": {},
   "outputs": [],
   "source": [
    "trecho_viagem['Cidade_origem'] = trecho_viagem['Origem'].map(aeroportos.set_index('Siglas')['Cidades'])"
   ]
  },
  {
   "cell_type": "code",
   "execution_count": null,
   "id": "0d47ac6d",
   "metadata": {},
   "outputs": [],
   "source": [
    "trecho_viagem['Cidade_destino'] = trecho_viagem['Destino'].map(aeroportos.set_index('Siglas')['Cidades'])"
   ]
  },
  {
   "cell_type": "code",
   "execution_count": null,
   "id": "2a3db678",
   "metadata": {},
   "outputs": [],
   "source": [
    "#trecho_viagem.to_csv('trecho_viagem.csv', index=False)\n",
    "\n",
    "trecho_viagem"
   ]
  },
  {
   "cell_type": "markdown",
   "id": "f6918e79",
   "metadata": {},
   "source": [
    "## 5.1 - Plotando um gráfico com os trechos mais recorrentes:"
   ]
  },
  {
   "cell_type": "code",
   "execution_count": null,
   "id": "af5acd8b",
   "metadata": {},
   "outputs": [],
   "source": [
    "plt.figure(figsize =(17, 6))\n",
    "\n",
    "sns.set_style(\"whitegrid\")\n",
    "\n",
    "ax = sns.barplot( x = trecho_viagem['Origem / Destino'], y = trecho_viagem['Qtde de Viagens'],data = trecho_viagem,\n",
    "                  linewidth=2, palette = \"Set2\", ci=None)\n",
    "\n",
    "for i in ax.patches:\n",
    "    ax.annotate(i.get_height(),\n",
    "                  (i.get_x() + i.get_width() / 2, i.get_height()),\n",
    "                  ha='center',\n",
    "                  va='baseline',\n",
    "                  fontsize=12,\n",
    "                  color='black',\n",
    "                  xytext=(0, 1),\n",
    "                  textcoords='offset points')\n",
    "\n",
    "ax.set_xticklabels(ax.get_xticklabels(),rotation = 50)\n",
    "\n",
    "# Adicionando Título ao gráfico\n",
    "plt.title(\"Os 10 Trechos de Viagens mais Recorrentes no Período de 2019 a 2021\", loc=\"center\", fontsize=18)\n",
    "plt.xlabel(\"Origem / Destino\", fontsize=14)\n",
    "plt.ylabel(\"Número de vezes\", fontsize=14)\n",
    "plt.xticks(fontsize=12)\n",
    "plt.yticks(fontsize=12)\n",
    "\n",
    "plt.show()"
   ]
  },
  {
   "cell_type": "markdown",
   "id": "18c192a3",
   "metadata": {},
   "source": [
    "## 6 - Qual a média de gastos por partido?"
   ]
  },
  {
   "cell_type": "code",
   "execution_count": null,
   "id": "58397016",
   "metadata": {},
   "outputs": [],
   "source": [
    "gasto_partidos = dados_mt[['sgPartido', 'vlrLiquido']].groupby(['sgPartido']).mean()\n",
    "\n",
    "gasto_partidos_media = gasto_partidos.groupby(['sgPartido']).mean().reset_index().round(2)\n",
    "\n",
    "gasto_partidos_media = gasto_partidos_media.sort_values(by='vlrLiquido',ascending=False)\n",
    "\n",
    "#gasto_partidos_media.to_csv('gasto_partidos.csv', index=False)\n",
    "\n",
    "gasto_partidos_media.style.format({'vlrLiquido':'R$ {:.2F}'}).background_gradient(cmap='Reds')"
   ]
  },
  {
   "cell_type": "code",
   "execution_count": null,
   "id": "7a2d679e",
   "metadata": {},
   "outputs": [],
   "source": [
    "g_p = dados_mt[['txNomeParlamentar','sgPartido', 'vlrLiquido']].groupby(['txNomeParlamentar', 'sgPartido']).sum().sort_values('vlrLiquido',ascending=False).round(2).reset_index()\n",
    "\n",
    "g_p"
   ]
  },
  {
   "cell_type": "code",
   "execution_count": null,
   "id": "8d951b87",
   "metadata": {},
   "outputs": [],
   "source": [
    "plt.figure(figsize =(20, 10))\n",
    "\n",
    "sns.set_style(\"whitegrid\")\n",
    "\n",
    "ax = sns.barplot( x = gasto_partidos_media['sgPartido'], y = (gasto_partidos_media['vlrLiquido']),data = gasto_partidos_media,\n",
    "                  linewidth=2, palette = \"Set2\", ci=None)\n",
    "\n",
    "for i in ax.patches:\n",
    "    ax.annotate(i.get_height(),\n",
    "                  (i.get_x() + i.get_width() / 2, i.get_height()),\n",
    "                  ha='center',\n",
    "                  va='baseline',\n",
    "                  fontsize=12,\n",
    "                  color='black',\n",
    "                  xytext=(0, 1),\n",
    "                  textcoords='offset points')\n",
    "\n",
    "ax.set_xticklabels(ax.get_xticklabels(),rotation = 70)\n",
    "\n",
    "# Adicionando Título ao gráfico\n",
    "plt.title(\"Média de Gastos por Partidos - Período de 2019 a 2021\", loc=\"center\", fontsize=18)\n",
    "plt.xlabel(\"Partidos\")\n",
    "plt.ylabel(\"Valores em Reais\")\n",
    "plt.xticks(fontsize=12)\n",
    "plt.yticks(fontsize=12)\n",
    "\n",
    "plt.show()"
   ]
  },
  {
   "cell_type": "markdown",
   "id": "2f0f8677",
   "metadata": {},
   "source": [
    "## 7 - Quais são os partidos que mais e que menos consumiram a cota parlamentar?"
   ]
  },
  {
   "cell_type": "markdown",
   "id": "39ed581c",
   "metadata": {},
   "source": [
    "A Cota para o Exercício da Atividade Parlamentar (CEAP), instituída pelo Ato da Mesa 43/2009, unificou a verba indenizatória (que vigorava desde 2001), a cota de passagens aéreas e a cota postal-telefônica. O valor mensal do benefício deve ser utilizado pelo deputado para custear despesas típicas do exercício do mandato parlamentar, como aluguel de escritório de apoio ao mandato no estado, passagens aéreas, alimentação, aluguel de carro, combustível, entre outras.\n",
    "<br>Segue tabela demonstrativa da Cota Parlamentar vigente:"
   ]
  },
  {
   "cell_type": "markdown",
   "id": "dc603fce",
   "metadata": {},
   "source": [
    "<p align=\"center\"><img src=\"https://static.wixstatic.com/media/fa559d_3b5f6de0221e463db8c19a7d276b64ac~mv2.jpg/v1/fill/w_450,h_300,al_c,q_80,usm_0.66_1.00_0.01/cota%20parlamentar.webp\"></p>"
   ]
  },
  {
   "cell_type": "markdown",
   "id": "b858e406",
   "metadata": {},
   "source": [
    "<b>OBSERVAÇÃO:</b> O Estado do Mato Grosso possui limite mensal de <b>R$ 39.428,03</b> por deputado federal. "
   ]
  },
  {
   "cell_type": "markdown",
   "id": "0676977a",
   "metadata": {},
   "source": [
    "Primeiramente para ter uma ideia geral das despesas por partidos no período de 2019 a 2021, separamos as colunas 'sgPartido' e 'vlrLiquido' do DataFrame 'dados_mt' e agrupamos a visualização através da coluna 'sgPartido'e exibimos os 10 primeiros resultados ordenados pelo valor em 'vlrLiquido'."
   ]
  },
  {
   "cell_type": "markdown",
   "id": "3a218710",
   "metadata": {},
   "source": [
    "### Partidos que mais utilizaram a cota parlamentar:"
   ]
  },
  {
   "cell_type": "code",
   "execution_count": null,
   "id": "9849137d",
   "metadata": {},
   "outputs": [],
   "source": [
    "gasto_partidos = dados_mt[['sgPartido', 'sgUF','vlrLiquido']].groupby(['sgPartido']).sum().sort_values('vlrLiquido', ascending = False)\n",
    "\n",
    "gasto_partidos = gasto_partidos.reset_index()\n",
    "\n",
    "gasto_partidos_tabela = gasto_partidos.head(5)\n",
    "\n",
    "gasto_partidos_tabela.style.format({'vlrLiquido':'R$ {:.2F}'}).background_gradient(cmap='Reds')"
   ]
  },
  {
   "cell_type": "markdown",
   "id": "474b7a1a",
   "metadata": {},
   "source": [
    "### Partidos que menos utilizaram a cota parlamentar:"
   ]
  },
  {
   "cell_type": "code",
   "execution_count": null,
   "id": "1fabb24d",
   "metadata": {},
   "outputs": [],
   "source": [
    "gasto_partidos = dados_mt[['sgPartido', 'sgUF','vlrLiquido']].groupby(['sgPartido']).sum().sort_values('vlrLiquido', ascending = True)\n",
    "\n",
    "gasto_partidos = gasto_partidos.reset_index()\n",
    "\n",
    "gasto_partidos_tabela = gasto_partidos.head(5)\n",
    "\n",
    "gasto_partidos_tabela.style.format({'vlrLiquido':'R$ {:.2F}'}).background_gradient(cmap='Reds')"
   ]
  },
  {
   "cell_type": "markdown",
   "id": "1b5b3ce4",
   "metadata": {},
   "source": [
    "Atribuímos o valor da cota referente ao Estado do Mato Grosso:"
   ]
  },
  {
   "cell_type": "code",
   "execution_count": null,
   "id": "5e0973e7",
   "metadata": {},
   "outputs": [],
   "source": [
    "cota_mt = 39428.03"
   ]
  },
  {
   "cell_type": "code",
   "execution_count": null,
   "id": "7243ff09",
   "metadata": {},
   "outputs": [],
   "source": [
    "aux_parlamentares = dados_mt[['txNomeParlamentar', 'sgPartido']].drop_duplicates()\n",
    "\n",
    "parlamentares_partido_mt = aux_parlamentares['sgPartido'].value_counts().to_frame()\n",
    "\n",
    "parlamentares_partido_mt\n",
    "\n",
    "total_cota_partido = parlamentares_partido_mt.rename(columns={'sgPartido':'Qtde_parlamentares'})\n",
    "\n",
    "total_cota_partido['cota_mensal'] = total_cota_partido['Qtde_parlamentares'] * cota_mt\n",
    "\n",
    "total_cota_partido.style.format({'cota_mensal':'R$ {:.2F}'}).background_gradient(cmap='Reds')"
   ]
  },
  {
   "cell_type": "code",
   "execution_count": null,
   "id": "5b5feb6b",
   "metadata": {},
   "outputs": [],
   "source": [
    "total_cota_partido[\"cota_disponibilizada_periodo\"] = (cota_mt * 31) * total_cota_partido['Qtde_parlamentares']\n",
    "\n",
    "total_cota_partido = total_cota_partido.reset_index().rename(columns={'index':'sgPartido'})\n",
    "\n",
    "total_cota_partido"
   ]
  },
  {
   "cell_type": "code",
   "execution_count": null,
   "id": "4a8eb6ea",
   "metadata": {},
   "outputs": [],
   "source": [
    "gasto_total_partidos = gasto_partidos.groupby('sgPartido').sum().reset_index()\n",
    "\n",
    "gasto_total_partidos"
   ]
  },
  {
   "cell_type": "code",
   "execution_count": null,
   "id": "3cf2c9ef",
   "metadata": {},
   "outputs": [],
   "source": [
    "uso_da_cota = pd.merge(total_cota_partido, gasto_total_partidos, on=['sgPartido'])\n",
    "\n",
    "uso_da_cota['Percentual Utilizado (%)'] = (uso_da_cota['vlrLiquido'] / uso_da_cota['cota_disponibilizada_periodo'])*100\n",
    "\n",
    "uso_da_cota = uso_da_cota.sort_values(by='Percentual Utilizado (%)', ascending=False)\n",
    "\n",
    "uso_da_cota = pd.DataFrame(uso_da_cota)\n",
    "\n",
    "#uso_da_cota.to_csv('uso_da_cota.csv', index=False)\n",
    "\n",
    "uso_da_cota"
   ]
  },
  {
   "cell_type": "code",
   "execution_count": null,
   "id": "7b5cf4b7",
   "metadata": {},
   "outputs": [],
   "source": [
    "x = uso_da_cota['sgPartido']\n",
    "y = uso_da_cota['Percentual Utilizado (%)']\n",
    "\n",
    "plt.figure(figsize=(15,6))\n",
    "\n",
    "plt.bar(x, y, color='r')\n",
    "\n",
    "plt.xticks(rotation = 30)\n",
    "plt.xlabel(\"Partidos\")\n",
    "plt.ylabel(\"Percentual de Utilização (%)\")\n",
    "plt.xticks(fontsize=12)\n",
    "plt.yticks(fontsize=12)\n",
    "plt.legend([\"% Utilizado da Cota\"])\n",
    "plt.title(\"Percentual de Utilização da Cota parlamentar\")\n",
    "\n",
    "for index,data in enumerate(y.round(2)):\n",
    "    plt.text(x=index , y =data+1 , s=f\"{data}%\" , fontdict=dict(fontsize=16))\n",
    "    \n",
    "plt.show()"
   ]
  },
  {
   "cell_type": "markdown",
   "id": "7e33ff86",
   "metadata": {},
   "source": [
    "## 8 - Há alguma correlação entre a quantidade de parlamentares por partido e o valor total dos gastos?"
   ]
  },
  {
   "cell_type": "markdown",
   "id": "04fff513",
   "metadata": {},
   "source": [
    "Primeiramente fazemos a verificação do gasto total dos partidos no período:"
   ]
  },
  {
   "cell_type": "code",
   "execution_count": null,
   "id": "3ed33f57",
   "metadata": {},
   "outputs": [],
   "source": [
    "gasto_partidos = dados_mt[['sgPartido', 'vlrLiquido']].groupby(['sgPartido']).sum().sort_values('vlrLiquido', ascending = False)\n",
    "\n",
    "gasto_partidos = gasto_partidos.reset_index()\n",
    "\n",
    "gasto_partidos = gasto_partidos.rename(columns={'vlrLiquido':'Total_gastos'})\n",
    "\n",
    "gasto_partidos.style.format({'Total_gastos':'R$ {:.2F}'})"
   ]
  },
  {
   "cell_type": "markdown",
   "id": "57d55cce",
   "metadata": {},
   "source": [
    "Em seguida checamos a quantidade de parlamentares por partido nesse período:"
   ]
  },
  {
   "cell_type": "code",
   "execution_count": null,
   "id": "cfea5a0b",
   "metadata": {},
   "outputs": [],
   "source": [
    "aux_partido = dados_mt[['sgPartido', 'txNomeParlamentar']].drop_duplicates()\n",
    "\n",
    "parlamentares_partido = aux_partido.groupby('sgPartido').count().sort_values(by='txNomeParlamentar', ascending=False).reset_index()\n",
    "\n",
    "parlamentares_partido = parlamentares_partido.rename(columns={'txNomeParlamentar':'Qtde_parlamentares'})\n",
    "\n",
    "parlamentares_partido"
   ]
  },
  {
   "cell_type": "markdown",
   "id": "41da3334",
   "metadata": {},
   "source": [
    "Fizemos então a junção (Pandas merge) entre a tabela de \"gasto_partidos\" e a tabela \"parlamentares_partido\", onde a coluna de união será a \"sgPartido\":"
   ]
  },
  {
   "cell_type": "code",
   "execution_count": null,
   "id": "8f11e5f4",
   "metadata": {},
   "outputs": [],
   "source": [
    "parlamentares_despesas = pd.merge(gasto_partidos, parlamentares_partido, on=['sgPartido'])\n",
    "\n",
    "parlamentares_despesas = parlamentares_despesas.sort_values(by='Qtde_parlamentares', ascending=False)\n",
    "\n",
    "parlamentares_despesas.to_csv('gasto_qtde_parlamentares.csv', index=False)\n",
    "\n",
    "parlamentares_despesas"
   ]
  },
  {
   "cell_type": "markdown",
   "id": "e1439c37",
   "metadata": {},
   "source": [
    "Como se tratam de grandezas em escalas diferentes (Total_gastos x Qtde_parlamentares), os dados precisam ser Normalizados (ajustados em uma escala comum), para isso utilizamos o método <b>MinMaxScaler</b> presente na biblioteca Sklearn. "
   ]
  },
  {
   "cell_type": "code",
   "execution_count": null,
   "id": "895c36c2",
   "metadata": {},
   "outputs": [],
   "source": [
    "from sklearn.preprocessing import MinMaxScaler\n",
    "\n",
    "scaler_01 = MinMaxScaler() \n",
    "\n",
    "partido_despesa_normalizado = scaler_01.fit_transform(parlamentares_despesas[['Total_gastos', 'Qtde_parlamentares']])"
   ]
  },
  {
   "cell_type": "markdown",
   "id": "0b1533df",
   "metadata": {},
   "source": [
    "Após a normalização convertemos os dados gerados em dataframe, renomeando as colunas com os nomes originais:"
   ]
  },
  {
   "cell_type": "code",
   "execution_count": null,
   "id": "208f936f",
   "metadata": {},
   "outputs": [],
   "source": [
    "df_partido_despesa_normalizado = pd.DataFrame(partido_despesa_normalizado)\n",
    "\n",
    "df_partido_despesa_normalizado.rename(columns={0:'Total_gastos', 1:'Qtde_parlamentares_partido'}, inplace=True)\n",
    "\n",
    "df_partido_despesa_normalizado.to_csv('gasto_parlamentar_normalizado.csv', index=False)\n",
    "\n",
    "df_partido_despesa_normalizado['sgPartido'] = parlamentares_despesas['sgPartido']\n",
    "\n",
    "#df_partido_despesa_normalizado.to_csv('gasto_partido_qtde_normalizado.csv', index=False)\n",
    "\n",
    "df_partido_despesa_normalizado"
   ]
  },
  {
   "cell_type": "markdown",
   "id": "e15e3303",
   "metadata": {},
   "source": [
    "Com os dados agora normalizados, aplicamos a função de correlação:"
   ]
  },
  {
   "cell_type": "code",
   "execution_count": null,
   "id": "1577e498",
   "metadata": {},
   "outputs": [],
   "source": [
    "correlacao = df_partido_despesa_normalizado.corr()\n",
    "\n",
    "correlacao"
   ]
  },
  {
   "cell_type": "markdown",
   "id": "814e13fa",
   "metadata": {},
   "source": [
    "><b>OBSERVAÇÃO:</b> Nota-se uma forte correlação positiva entre o Total de gastos com a Quantidade de Parlamentares."
   ]
  },
  {
   "cell_type": "markdown",
   "id": "00c8d692",
   "metadata": {},
   "source": [
    "Em seguida plotamos o gráfico de Mapa de Calor, recomendado para exibição da correlação, onde as cores mais intensas confirmam a alta correlação entre as variáveis comparadas.\n",
    "<br><b>NOTA:</b> Foi ajustada a escala da correlação conforme preconiza a Estatística Probabilística, com a escala variando de -1 a 1."
   ]
  },
  {
   "cell_type": "code",
   "execution_count": null,
   "id": "efdbd552",
   "metadata": {},
   "outputs": [],
   "source": [
    "a = sns.heatmap(data = correlacao,\n",
    "            vmin= -1, vmax=1,\n",
    "            cmap='coolwarm', center=0, annot=True,\n",
    "            linewidths=1, linecolor=\"yellow\")\n",
    "\n",
    "a.set_xticklabels(a.get_xmajorticklabels(), fontsize = 14, rotation = 0)\n",
    "a.set_yticklabels(a.get_ymajorticklabels(), fontsize = 14)\n",
    "print()"
   ]
  },
  {
   "cell_type": "markdown",
   "id": "e9c168d5",
   "metadata": {},
   "source": [
    "E finalizamos a avaliação com mais uma representação gráfica, desta vez a dispersão dos valores normalizados, com destaque para a linha de tendência no centro do gráfico."
   ]
  },
  {
   "cell_type": "code",
   "execution_count": null,
   "id": "3065e11a",
   "metadata": {},
   "outputs": [],
   "source": [
    "ax = sns.pairplot(parlamentares_despesas, y_vars='Total_gastos', x_vars=['Qtde_parlamentares'], kind='reg')\n",
    "\n",
    "ax.figure.set_size_inches(12,6)\n",
    "\n",
    "ax.fig.suptitle('Dispersão entre as Variáveis', fontsize=20, y=1.1)\n",
    "\n",
    "print()"
   ]
  },
  {
   "cell_type": "code",
   "execution_count": null,
   "id": "e17aa3ff",
   "metadata": {},
   "outputs": [],
   "source": []
  },
  {
   "cell_type": "markdown",
   "id": "28b18ebe",
   "metadata": {},
   "source": [
    "<h2>Equipe de Projeto</h2>\n",
    "\n",
    "<h3>Para acessar o perfil no GitHub de membro da equipe clique na foto e você será redirecionado.</h3>\n",
    "<table align=\"center\">\n",
    "    <tr align=\"center\">        \n",
    "    <td><a href=\"https://github.com/leticiafelippe\"><img src=\"https://static.wixstatic.com/media/fa559d_7cd4e0d00dc6431e937b93efc00949c9~mv2.jpg/v1/fill/w_189,h_192,al_c,q_80,usm_0.66_1.00_0.01/LETICIA.webp\"</a></td>\n",
    "    <td><a href=\"https://github.com/Mestevam1976\" target=\"_blank\"><img src=\"https://static.wixstatic.com/media/fa559d_fa2cf4ccc63e4aa6b4139bd9fd83a54c~mv2.jpg/v1/crop/x_74,y_0,w_550,h_595/fill/w_189,h_192,al_c,q_80,usm_0.66_1.00_0.01/marcio.webp\"></a></td>\n",
    "    <td><a href=\"https://github.com/PHSFernandes\"><img src=\"https://static.wixstatic.com/media/fa559d_32b5fb5b548d47abbbee5f77f35121c9~mv2.jpg/v1/fill/w_189,h_192,al_c,q_80,usm_0.66_1.00_0.01/PH.webp\"</a></td>\n",
    "    <td><a href=\"https://github.com/Reinaldos\"><img src=\"https://static.wixstatic.com/media/fa559d_6a3934268c4d46d3901ed0e0324b45f0~mv2.jpg/v1/fill/w_189,h_192,al_c,q_80,usm_0.66_1.00_0.01/REINALDO.webp\"</a></td>        \n",
    "    </tr>    \n",
    "    <tr align=\"center\">\n",
    "        <td><p align=\"center\"><b>LETÍCIA FELIPPE</b></p></td>\n",
    "        <td><p align=\"center\"><b>MÁRCIO ESTEVAM DA SILVA</b></p></td>\n",
    "        <td><p align=\"center\"><b>PAULO H. S. FERNANDES</b></p></td>\n",
    "        <td><p align=\"center\"><b>REINALDO LEANDRO DE SOUSA</b></p></td>\n",
    "                \n",
    "</table>"
   ]
  },
  {
   "cell_type": "code",
   "execution_count": null,
   "id": "615e8cb5",
   "metadata": {},
   "outputs": [],
   "source": [
    "pip freeze > requirements.txt"
   ]
  },
  {
   "cell_type": "code",
   "execution_count": null,
   "id": "62d8cf11",
   "metadata": {},
   "outputs": [],
   "source": []
  }
 ],
 "metadata": {
  "kernelspec": {
   "display_name": "Python 3 (ipykernel)",
   "language": "python",
   "name": "python3"
  },
  "language_info": {
   "codemirror_mode": {
    "name": "ipython",
    "version": 3
   },
   "file_extension": ".py",
   "mimetype": "text/x-python",
   "name": "python",
   "nbconvert_exporter": "python",
   "pygments_lexer": "ipython3",
   "version": "3.9.7"
  }
 },
 "nbformat": 4,
 "nbformat_minor": 5
}
